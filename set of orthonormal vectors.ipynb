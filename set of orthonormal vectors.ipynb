{
 "cells": [
  {
   "cell_type": "code",
   "execution_count": null,
   "metadata": {},
   "outputs": [],
   "source": [
    "a = np.array([2/math.sqrt(2), 0, -1/math.sqrt(2)])\n",
    "b = np.array([1/2, math.sqrt(2)/2, 1/2])\n",
    "c = np.array([1/2, (math.sqrt(2)/-2), 1/2])"
   ]
  }
 ],
 "metadata": {
  "kernelspec": {
   "display_name": "Python 3",
   "language": "python",
   "name": "python3"
  },
  "language_info": {
   "name": "python",
   "version": "3.12.0"
  }
 },
 "nbformat": 4,
 "nbformat_minor": 2
}
